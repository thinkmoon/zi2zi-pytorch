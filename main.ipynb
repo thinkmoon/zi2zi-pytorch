{
 "cells": [
  {
   "cell_type": "markdown",
   "metadata": {},
   "source": [
    "## 训练"
   ]
  },
  {
   "cell_type": "code",
   "execution_count": null,
   "metadata": {
    "vscode": {
     "languageId": "bat"
    }
   },
   "outputs": [],
   "source": [
    "python train.py --experiment_dir=experiment --gpu_ids=cuda:0 --batch_size=32 --epoch=10000 --sample_steps=200 --checkpoint_steps=200 --input_nc 1 --resume 500"
   ]
  }
 ],
 "metadata": {
  "language_info": {
   "name": "python"
  }
 },
 "nbformat": 4,
 "nbformat_minor": 2
}

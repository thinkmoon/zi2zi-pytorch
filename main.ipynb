{
 "cells": [
  {
   "cell_type": "code",
   "execution_count": 1,
   "metadata": {
    "vscode": {
     "languageId": "bat"
    }
   },
   "outputs": [
    {
     "name": "stdout",
     "output_type": "stream",
     "text": [
      "filter hashes -> \n",
      "draw fail at char: 牪\n",
      "draw fail at char: 倶\n",
      "draw fail at char: 諺\n",
      "draw fail at char: 裺\n",
      "draw fail at char: 縠\n",
      "保存： 迷\n",
      "draw fail at char: 貨\n",
      "draw fail at char: 氣\n",
      "draw fail at char: 媧\n",
      "保存： 翘\n",
      "draw fail at char: 蝕\n",
      "draw fail at char: 仧\n",
      "保存： 龅\n",
      "保存： 祆\n",
      "draw fail at char: 屟\n",
      "保存： 协\n",
      "draw fail at char: 鈑\n",
      "draw fail at char: 媮\n",
      "draw fail at char: 檸\n",
      "保存： 莳\n",
      "draw fail at char: 薍\n",
      "draw fail at char: 蝚\n",
      "draw fail at char: 貵\n",
      "保存： 杉\n",
      "draw fail at char: 瘹\n",
      "draw fail at char: 朶\n",
      "draw fail at char: 膫\n",
      "draw fail at char: 蹓\n",
      "保存： 价\n",
      "draw fail at char: 泂\n",
      "保存： 咦\n",
      "draw fail at char: 棗\n",
      "保存： 瞳\n"
     ]
    },
    {
     "name": "stderr",
     "output_type": "stream",
     "text": [
      "g:\\project\\zi2zi-pytorch\\font2img.py:183: SyntaxWarning: invalid escape sequence '\\d'\n",
      "  pattern = re.compile('(.)~(.+)~(\\d+)')\n",
      "g:\\project\\zi2zi-pytorch\\font2img.py:227: SyntaxWarning: invalid escape sequence '\\d'\n",
      "  pattern = re.compile('(.)~(.+)~(\\d+)')\n"
     ]
    },
    {
     "name": "stdout",
     "output_type": "stream",
     "text": [
      "filter hashes -> -2385936013624487738\n",
      "保存： 宦\n",
      "保存： 栗\n",
      "保存： 芦\n",
      "保存： 龄\n",
      "保存： 披\n",
      "保存： 抬\n",
      "保存： 兔\n",
      "保存： 吟\n",
      "保存： 肴\n",
      "保存： 的\n"
     ]
    },
    {
     "name": "stderr",
     "output_type": "stream",
     "text": [
      "g:\\project\\zi2zi-pytorch\\font2img.py:183: SyntaxWarning: invalid escape sequence '\\d'\n",
      "  pattern = re.compile('(.)~(.+)~(\\d+)')\n",
      "g:\\project\\zi2zi-pytorch\\font2img.py:227: SyntaxWarning: invalid escape sequence '\\d'\n",
      "  pattern = re.compile('(.)~(.+)~(\\d+)')\n"
     ]
    },
    {
     "name": "stdout",
     "output_type": "stream",
     "text": [
      "filter hashes -> \n",
      "draw fail at char: 媮\n",
      "保存： 泷\n",
      "draw fail at char: 酙\n",
      "draw fail at char: 劶\n",
      "draw fail at char: 枼\n",
      "draw fail at char: 鸤\n",
      "draw fail at char: 剕\n",
      "draw fail at char: 違\n",
      "draw fail at char: 蕯\n",
      "draw fail at char: 粷\n",
      "保存： 稿\n",
      "draw fail at char: 錼\n",
      "draw fail at char: 杗\n",
      "draw fail at char: 躩\n",
      "保存： 聪\n",
      "draw fail at char: 蕼\n",
      "draw fail at char: 瀃\n",
      "保存： 龋\n",
      "draw fail at char: 涢\n",
      "保存： 辗\n",
      "draw fail at char: 闍\n",
      "draw fail at char: 娋\n",
      "draw fail at char: 瓊\n",
      "保存： 胙\n",
      "draw fail at char: 哶\n",
      "draw fail at char: 啰\n",
      "draw fail at char: 蝺\n",
      "保存： 艺\n",
      "draw fail at char: 踐\n",
      "draw fail at char: 繵\n",
      "draw fail at char: 謵\n",
      "保存： 芜\n",
      "保存： 号\n",
      "保存： 朕\n"
     ]
    },
    {
     "name": "stderr",
     "output_type": "stream",
     "text": [
      "g:\\project\\zi2zi-pytorch\\font2img.py:183: SyntaxWarning: invalid escape sequence '\\d'\n",
      "  pattern = re.compile('(.)~(.+)~(\\d+)')\n",
      "g:\\project\\zi2zi-pytorch\\font2img.py:227: SyntaxWarning: invalid escape sequence '\\d'\n",
      "  pattern = re.compile('(.)~(.+)~(\\d+)')\n"
     ]
    },
    {
     "name": "stdout",
     "output_type": "stream",
     "text": [
      "filter hashes -> -4065975969227160564\n",
      "draw fail at char: 跕\n",
      "draw fail at char: 洦\n",
      "draw fail at char: 壼\n",
      "draw fail at char: 詀\n",
      "draw fail at char: 螫\n",
      "draw fail at char: 珵\n",
      "draw fail at char: 憸\n",
      "draw fail at char: 踖\n",
      "draw fail at char: 黭\n",
      "draw fail at char: 躭\n",
      "draw fail at char: 鷃\n",
      "保存： 緑\n",
      "draw fail at char: 刃\n",
      "draw fail at char: 崟\n",
      "draw fail at char: 匹\n",
      "draw fail at char: 般\n",
      "draw fail at char: 倵\n",
      "draw fail at char: 凂\n",
      "draw fail at char: 璨\n",
      "draw fail at char: 劖\n",
      "draw fail at char: 娶\n",
      "draw fail at char: 鐵\n",
      "draw fail at char: 髃\n",
      "draw fail at char: 泑\n",
      "draw fail at char: 軜\n",
      "draw fail at char: 薀\n",
      "draw fail at char: 轥\n",
      "保存： 顔\n",
      "draw fail at char: 鮓\n",
      "draw fail at char: 疣\n",
      "draw fail at char: 睞\n",
      "draw fail at char: 峝\n",
      "draw fail at char: 覥\n",
      "draw fail at char: 裂\n",
      "draw fail at char: 穈\n",
      "draw fail at char: 橾\n",
      "draw fail at char: 臿\n",
      "draw fail at char: 咫\n",
      "保存： 築\n",
      "draw fail at char: 厔\n",
      "draw fail at char: 紭\n",
      "draw fail at char: 診\n",
      "保存： 赤\n",
      "draw fail at char: 澪\n",
      "draw fail at char: 歫\n",
      "draw fail at char: 縁\n",
      "保存： 弟\n",
      "draw fail at char: 凾\n",
      "draw fail at char: 鵶\n",
      "draw fail at char: 疹\n",
      "保存： 窓\n",
      "保存： 土\n",
      "draw fail at char: 艖\n",
      "draw fail at char: 鼿\n",
      "draw fail at char: 浙\n",
      "保存： 宗\n",
      "draw fail at char: 拽\n",
      "draw fail at char: 跋\n",
      "draw fail at char: 蘞\n",
      "draw fail at char: 鶴\n",
      "draw fail at char: 旒\n",
      "draw fail at char: 册\n",
      "draw fail at char: 揀\n",
      "draw fail at char: 鱪\n",
      "draw fail at char: 薿\n",
      "draw fail at char: 遉\n",
      "draw fail at char: 冾\n",
      "draw fail at char: 藿\n",
      "draw fail at char: 啞\n",
      "draw fail at char: 怫\n",
      "draw fail at char: 埋\n",
      "draw fail at char: 煕\n",
      "draw fail at char: 恃\n",
      "draw fail at char: 旉\n",
      "draw fail at char: 擠\n",
      "draw fail at char: 於\n",
      "draw fail at char: 踄\n",
      "draw fail at char: 邯\n",
      "draw fail at char: 凡\n",
      "draw fail at char: 岲\n",
      "draw fail at char: 砵\n",
      "draw fail at char: 瘧\n",
      "draw fail at char: 瀞\n",
      "draw fail at char: 嫆\n",
      "draw fail at char: 焃\n",
      "draw fail at char: 卞\n",
      "draw fail at char: 秡\n",
      "draw fail at char: 囤\n",
      "保存： 行\n",
      "保存： 寺\n"
     ]
    },
    {
     "name": "stderr",
     "output_type": "stream",
     "text": [
      "g:\\project\\zi2zi-pytorch\\font2img.py:183: SyntaxWarning: invalid escape sequence '\\d'\n",
      "  pattern = re.compile('(.)~(.+)~(\\d+)')\n",
      "g:\\project\\zi2zi-pytorch\\font2img.py:227: SyntaxWarning: invalid escape sequence '\\d'\n",
      "  pattern = re.compile('(.)~(.+)~(\\d+)')\n"
     ]
    },
    {
     "name": "stdout",
     "output_type": "stream",
     "text": [
      "filter hashes -> 2537850571050003143,8385005438985450654\n",
      "draw fail at char: 寎\n",
      "draw fail at char: 椻\n",
      "draw fail at char: 悮\n",
      "draw fail at char: 跧\n",
      "保存： 蠡\n",
      "draw fail at char: 瞿\n",
      "draw fail at char: 蠆\n",
      "draw fail at char: 澑\n",
      "draw fail at char: 犴\n",
      "draw fail at char: 蔕\n",
      "draw fail at char: 贶\n",
      "保存： 药\n",
      "draw fail at char: 覷\n",
      "draw fail at char: 犵\n",
      "draw fail at char: 邟\n",
      "保存： 倌\n",
      "draw fail at char: 颶\n",
      "draw fail at char: 鬞\n",
      "draw fail at char: 莩\n",
      "draw fail at char: 婛\n",
      "draw fail at char: 萆\n",
      "保存： 录\n",
      "draw fail at char: 恴\n",
      "保存： 调\n",
      "draw fail at char: 顦\n",
      "draw fail at char: 襩\n",
      "draw fail at char: 歏\n",
      "保存： 纣\n",
      "保存： 曜\n",
      "draw fail at char: 頌\n",
      "draw fail at char: 銡\n",
      "draw fail at char: 懟\n",
      "draw fail at char: 詙\n",
      "draw fail at char: 譏\n",
      "保存： 谙\n",
      "draw fail at char: 奍\n",
      "draw fail at char: 鰔\n",
      "draw fail at char: 醂\n",
      "draw fail at char: 閄\n",
      "draw fail at char: 皽\n",
      "draw fail at char: 旯\n",
      "draw fail at char: 楂\n",
      "draw fail at char: 調\n",
      "draw fail at char: 欖\n",
      "保存： 莅\n",
      "draw fail at char: 溫\n",
      "draw fail at char: 爌\n",
      "draw fail at char: 瞘\n",
      "draw fail at char: 軥\n",
      "draw fail at char: 箂\n",
      "draw fail at char: 哆\n",
      "draw fail at char: 図\n",
      "draw fail at char: 鈎\n",
      "draw fail at char: 梷\n",
      "保存： 罢\n"
     ]
    },
    {
     "name": "stderr",
     "output_type": "stream",
     "text": [
      "g:\\project\\zi2zi-pytorch\\font2img.py:183: SyntaxWarning: invalid escape sequence '\\d'\n",
      "  pattern = re.compile('(.)~(.+)~(\\d+)')\n",
      "g:\\project\\zi2zi-pytorch\\font2img.py:227: SyntaxWarning: invalid escape sequence '\\d'\n",
      "  pattern = re.compile('(.)~(.+)~(\\d+)')\n"
     ]
    },
    {
     "name": "stdout",
     "output_type": "stream",
     "text": [
      "filter hashes -> -2675203868936814152\n",
      "保存： 颗\n",
      "draw fail at char: 鎜\n",
      "draw fail at char: 炷\n",
      "draw fail at char: 湨\n",
      "保存： 杉\n",
      "draw fail at char: 偰\n",
      "draw fail at char: 尨\n",
      "draw fail at char: 媻\n",
      "draw fail at char: 谝\n",
      "draw fail at char: 珁\n",
      "draw fail at char: 誺\n",
      "draw fail at char: 鐴\n",
      "draw fail at char: 龂\n",
      "保存： 为\n",
      "draw fail at char: 鞊\n",
      "draw fail at char: 塐\n",
      "draw fail at char: 黯\n",
      "保存： 属\n",
      "draw fail at char: 揜\n",
      "draw fail at char: 歲\n",
      "保存： 蕉\n",
      "draw fail at char: 鰖\n",
      "保存： 竽\n",
      "draw fail at char: 婜\n",
      "draw fail at char: 窬\n",
      "保存： 氤\n",
      "draw fail at char: 罶\n",
      "保存： 读\n",
      "保存： 泣\n",
      "保存： 倾\n"
     ]
    },
    {
     "name": "stderr",
     "output_type": "stream",
     "text": [
      "g:\\project\\zi2zi-pytorch\\font2img.py:183: SyntaxWarning: invalid escape sequence '\\d'\n",
      "  pattern = re.compile('(.)~(.+)~(\\d+)')\n",
      "g:\\project\\zi2zi-pytorch\\font2img.py:227: SyntaxWarning: invalid escape sequence '\\d'\n",
      "  pattern = re.compile('(.)~(.+)~(\\d+)')\n"
     ]
    },
    {
     "name": "stdout",
     "output_type": "stream",
     "text": [
      "filter hashes -> \n",
      "draw fail at char: 岍\n",
      "draw fail at char: 隖\n",
      "draw fail at char: 鞣\n",
      "draw fail at char: 鈂\n",
      "draw fail at char: 菫\n",
      "draw fail at char: 慓\n",
      "draw fail at char: 蚐\n",
      "保存： 络\n",
      "draw fail at char: 愭\n",
      "draw fail at char: 襳\n",
      "draw fail at char: 诠\n",
      "保存： 臂\n",
      "保存： 矫\n",
      "draw fail at char: 嫊\n",
      "draw fail at char: 逘\n",
      "保存： 伦\n",
      "draw fail at char: 鑬\n",
      "保存： 知\n",
      "draw fail at char: 洤\n",
      "draw fail at char: 胒\n",
      "draw fail at char: 虛\n",
      "保存： 会\n",
      "draw fail at char: 磠\n",
      "draw fail at char: 衠\n",
      "保存： 笑\n",
      "draw fail at char: 彯\n",
      "draw fail at char: 雈\n",
      "draw fail at char: 婏\n",
      "draw fail at char: 瞽\n",
      "draw fail at char: 鸉\n",
      "draw fail at char: 儃\n",
      "保存： 论\n",
      "draw fail at char: 碞\n",
      "draw fail at char: 娝\n",
      "draw fail at char: 錭\n",
      "draw fail at char: 鎂\n",
      "draw fail at char: 鋀\n",
      "保存： 躯\n",
      "draw fail at char: 嘧\n",
      "draw fail at char: 硡\n",
      "draw fail at char: 砞\n",
      "保存： 瞧\n"
     ]
    },
    {
     "name": "stderr",
     "output_type": "stream",
     "text": [
      "g:\\project\\zi2zi-pytorch\\font2img.py:183: SyntaxWarning: invalid escape sequence '\\d'\n",
      "  pattern = re.compile('(.)~(.+)~(\\d+)')\n",
      "g:\\project\\zi2zi-pytorch\\font2img.py:227: SyntaxWarning: invalid escape sequence '\\d'\n",
      "  pattern = re.compile('(.)~(.+)~(\\d+)')\n"
     ]
    },
    {
     "name": "stdout",
     "output_type": "stream",
     "text": [
      "filter hashes -> -5515623868789602818\n",
      "保存： 躔\n",
      "保存： 槊\n",
      "保存： 忾\n",
      "保存： 呋\n",
      "保存： 减\n",
      "保存： 钳\n",
      "保存： 箩\n",
      "保存： 膀\n",
      "保存： 泊\n",
      "保存： 黑\n"
     ]
    },
    {
     "name": "stderr",
     "output_type": "stream",
     "text": [
      "g:\\project\\zi2zi-pytorch\\font2img.py:183: SyntaxWarning: invalid escape sequence '\\d'\n",
      "  pattern = re.compile('(.)~(.+)~(\\d+)')\n",
      "g:\\project\\zi2zi-pytorch\\font2img.py:227: SyntaxWarning: invalid escape sequence '\\d'\n",
      "  pattern = re.compile('(.)~(.+)~(\\d+)')\n"
     ]
    }
   ],
   "source": [
    "! python font2img.py --src_font=font/base.ttf --dst_font=font/0.ttf --charset=CN --sample_count=5000 --sample_dir=dir --label=1 --filter --shuffle --mode=font2font\n",
    "! python font2img.py --src_font=font/base.ttf --dst_font=font/a.ttf --charset=CN --sample_count=5000 --sample_dir=dir --label=2 --filter --shuffle --mode=font2font\n",
    "! python font2img.py --src_font=font/base.ttf --dst_font=font/b.ttf --charset=CN --sample_count=5000 --sample_dir=dir --label=3 --filter --shuffle --mode=font2font\n",
    "! python font2img.py --src_font=font/base.ttf --dst_font=font/c.ttf --charset=CN --sample_count=5000 --sample_dir=dir --label=4 --filter --shuffle --mode=font2font\n",
    "! python font2img.py --src_font=font/base.ttf --dst_font=font/d.ttf --charset=CN --sample_count=5000 --sample_dir=dir --label=5 --filter --shuffle --mode=font2font\n",
    "! python font2img.py --src_font=font/base.ttf --dst_font=font/e.ttf --charset=CN --sample_count=5000 --sample_dir=dir --label=6 --filter --shuffle --mode=font2font\n",
    "! python font2img.py --src_font=font/base.ttf --dst_font=font/f.ttf --charset=CN --sample_count=5000 --sample_dir=dir --label=7 --filter --shuffle --mode=font2font\n",
    "! python font2img.py --src_font=font/base.ttf --dst_font=font/g.ttf --charset=CN --sample_count=5000 --sample_dir=dir --label=8 --filter --shuffle --mode=font2font"
   ]
  },
  {
   "cell_type": "markdown",
   "metadata": {},
   "source": [
    "## 打包数据集"
   ]
  },
  {
   "cell_type": "code",
   "execution_count": 2,
   "metadata": {
    "vscode": {
     "languageId": "bat"
    }
   },
   "outputs": [
    {
     "name": "stderr",
     "output_type": "stream",
     "text": [
      "\n",
      "  0%|          | 0/80 [00:00<?, ?it/s]\n",
      "100%|██████████| 80/80 [00:00<?, ?it/s]\n",
      "\n",
      "  0%|          | 0/80 [00:00<?, ?it/s]\n",
      "100%|██████████| 80/80 [00:00<00:00, 10061.60it/s]\n"
     ]
    }
   ],
   "source": [
    "! python package.py --dir=dir --save_dir=binary_save_directory --split_ratio=0.2"
   ]
  },
  {
   "cell_type": "markdown",
   "metadata": {},
   "source": [
    "## 训练"
   ]
  },
  {
   "cell_type": "code",
   "execution_count": 9,
   "metadata": {
    "vscode": {
     "languageId": "bat"
    }
   },
   "outputs": [
    {
     "ename": "SyntaxError",
     "evalue": "invalid syntax (1745464485.py, line 1)",
     "output_type": "error",
     "traceback": [
      "\u001b[1;36m  Cell \u001b[1;32mIn[9], line 1\u001b[1;36m\u001b[0m\n\u001b[1;33m    python train.py --experiment_dir=experiment --gpu_ids=cuda:0 --batch_size=32 --epoch=10000 --sample_steps=500 --checkpoint_steps=500 --input_nc 1\u001b[0m\n\u001b[1;37m           ^\u001b[0m\n\u001b[1;31mSyntaxError\u001b[0m\u001b[1;31m:\u001b[0m invalid syntax\n"
     ]
    }
   ],
   "source": [
    "python train.py --experiment_dir=experiment --gpu_ids=cuda:0 --batch_size=32 --epoch=10000 --sample_steps=500 --checkpoint_steps=500 --input_nc 1"
   ]
  },
  {
   "cell_type": "markdown",
   "metadata": {},
   "source": [
    "## 断点训练"
   ]
  },
  {
   "cell_type": "code",
   "execution_count": 1,
   "metadata": {
    "vscode": {
     "languageId": "shellscript"
    }
   },
   "outputs": [
    {
     "name": "stdout",
     "output_type": "stream",
     "text": [
      "^C\n"
     ]
    }
   ],
   "source": [
    "! python train.py --experiment_dir=experiment --gpu_ids=cuda:0 --batch_size=64 --epoch=100000 --sample_steps=100 --checkpoint_steps=100 --input_nc 1 --resume 90000"
   ]
  }
 ],
 "metadata": {
  "kernelspec": {
   "display_name": "Python 3",
   "language": "python",
   "name": "python3"
  },
  "language_info": {
   "codemirror_mode": {
    "name": "ipython",
    "version": 3
   },
   "file_extension": ".py",
   "mimetype": "text/x-python",
   "name": "python",
   "nbconvert_exporter": "python",
   "pygments_lexer": "ipython3",
   "version": "3.12.3"
  }
 },
 "nbformat": 4,
 "nbformat_minor": 2
}

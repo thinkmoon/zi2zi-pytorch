{
 "cells": [
  {
   "cell_type": "markdown",
   "metadata": {},
   "source": [
    "## 预处理"
   ]
  },
  {
   "cell_type": "code",
   "execution_count": 6,
   "metadata": {
    "vscode": {
     "languageId": "bat"
    }
   },
   "outputs": [
    {
     "name": "stdout",
     "output_type": "stream",
     "text": [
      "filter hashes -> \n"
     ]
    },
    {
     "name": "stderr",
     "output_type": "stream",
     "text": [
      "d:\\project\\python\\zi2zi-pytorch\\font2img.py:80: DeprecationWarning: ANTIALIAS is deprecated and will be removed in Pillow 10 (2023-07-01). Use Resampling.LANCZOS instead.\n",
      "  img = img.resize((canvas_size, canvas_size), Image.ANTIALIAS)\n"
     ]
    }
   ],
   "source": [
    "! python font2img.py --src_font=font/base.ttf --dst_font=font/c.ttf --charset=text.txt --sample_count=1346 --sample_dir=dir --label=0 --filter --shuffle --mode=font2font"
   ]
  },
  {
   "cell_type": "markdown",
   "metadata": {},
   "source": [
    "## 打包数据集"
   ]
  },
  {
   "cell_type": "code",
   "execution_count": 7,
   "metadata": {
    "vscode": {
     "languageId": "bat"
    }
   },
   "outputs": [
    {
     "name": "stderr",
     "output_type": "stream",
     "text": [
      "\n",
      "  0%|          | 0/968 [00:00<?, ?it/s]\n",
      "100%|██████████| 968/968 [00:00<00:00, 323100.93it/s]\n",
      "\n",
      "  0%|          | 0/968 [00:00<?, ?it/s]\n",
      "  2%|▏         | 23/968 [00:00<00:04, 225.03it/s]\n",
      "  5%|▍         | 47/968 [00:00<00:04, 225.84it/s]\n",
      "  7%|▋         | 72/968 [00:00<00:03, 233.54it/s]\n",
      " 10%|▉         | 96/968 [00:00<00:03, 229.68it/s]\n",
      " 12%|█▏        | 119/968 [00:00<00:03, 222.13it/s]\n",
      " 15%|█▍        | 142/968 [00:00<00:03, 219.32it/s]\n",
      " 17%|█▋        | 164/968 [00:00<00:03, 217.43it/s]\n",
      " 19%|█▉        | 186/968 [00:00<00:03, 215.26it/s]\n",
      " 21%|██▏       | 208/968 [00:01<00:04, 168.81it/s]\n",
      " 23%|██▎       | 227/968 [00:01<00:04, 172.53it/s]\n",
      " 25%|██▌       | 246/968 [00:01<00:04, 170.76it/s]\n",
      " 27%|██▋       | 265/968 [00:01<00:04, 174.40it/s]\n",
      " 30%|██▉       | 290/968 [00:01<00:03, 192.74it/s]\n",
      " 32%|███▏      | 314/968 [00:01<00:03, 200.73it/s]\n",
      " 35%|███▍      | 335/968 [00:01<00:03, 198.79it/s]\n",
      " 37%|███▋      | 358/968 [00:01<00:03, 202.57it/s]\n",
      " 39%|███▉      | 379/968 [00:01<00:02, 204.31it/s]\n",
      " 42%|████▏     | 403/968 [00:01<00:02, 213.46it/s]\n",
      " 44%|████▍     | 428/968 [00:02<00:02, 221.44it/s]\n",
      " 47%|████▋     | 453/968 [00:02<00:02, 225.71it/s]\n",
      " 49%|████▉     | 476/968 [00:02<00:02, 225.67it/s]\n",
      " 52%|█████▏    | 499/968 [00:02<00:02, 224.89it/s]\n",
      " 54%|█████▍    | 523/968 [00:02<00:01, 226.81it/s]\n",
      " 57%|█████▋    | 548/968 [00:02<00:01, 231.06it/s]\n",
      " 59%|█████▉    | 572/968 [00:02<00:01, 230.90it/s]\n",
      " 62%|██████▏   | 596/968 [00:02<00:01, 231.71it/s]\n",
      " 64%|██████▍   | 620/968 [00:02<00:01, 231.79it/s]\n",
      " 67%|██████▋   | 644/968 [00:03<00:01, 232.26it/s]\n",
      " 69%|██████▉   | 668/968 [00:03<00:01, 228.98it/s]\n",
      " 71%|███████▏  | 691/968 [00:03<00:01, 229.10it/s]\n",
      " 74%|███████▍  | 714/968 [00:03<00:01, 226.87it/s]\n",
      " 76%|███████▌  | 737/968 [00:03<00:01, 219.26it/s]\n",
      " 79%|███████▊  | 760/968 [00:03<00:00, 220.29it/s]\n",
      " 81%|████████  | 783/968 [00:03<00:00, 221.48it/s]\n",
      " 83%|████████▎ | 806/968 [00:03<00:00, 221.51it/s]\n",
      " 86%|████████▌ | 829/968 [00:03<00:00, 219.71it/s]\n",
      " 88%|████████▊ | 851/968 [00:03<00:00, 219.04it/s]\n",
      " 90%|█████████ | 874/968 [00:04<00:00, 219.65it/s]\n",
      " 93%|█████████▎| 897/968 [00:04<00:00, 219.89it/s]\n",
      " 95%|█████████▌| 920/968 [00:04<00:00, 221.06it/s]\n",
      " 97%|█████████▋| 943/968 [00:04<00:00, 220.88it/s]\n",
      "100%|█████████▉| 966/968 [00:04<00:00, 221.32it/s]\n",
      "100%|██████████| 968/968 [00:04<00:00, 215.63it/s]\n"
     ]
    }
   ],
   "source": [
    "! python package.py --dir=dir --save_dir=binary_save_directory --split_ratio=0.2"
   ]
  },
  {
   "cell_type": "markdown",
   "metadata": {},
   "source": [
    "## 训练"
   ]
  },
  {
   "cell_type": "code",
   "execution_count": null,
   "metadata": {
    "vscode": {
     "languageId": "bat"
    }
   },
   "outputs": [],
   "source": [
    "python train.py --experiment_dir=experiment --gpu_ids=cuda:0 --batch_size=32 --epoch=10000 --sample_steps=500 --checkpoint_steps=500 --input_nc 1"
   ]
  },
  {
   "cell_type": "markdown",
   "metadata": {},
   "source": [
    "## 断点训练"
   ]
  },
  {
   "cell_type": "code",
   "execution_count": 9,
   "metadata": {
    "vscode": {
     "languageId": "bat"
    }
   },
   "outputs": [
    {
     "name": "stdout",
     "output_type": "stream",
     "text": [
      "^C\n"
     ]
    },
    {
     "name": "stderr",
     "output_type": "stream",
     "text": [
      "Traceback (most recent call last):\n",
      "  File \"d:\\project\\python\\zi2zi-pytorch\\train.py\", line 134, in <module>\n",
      "    \n",
      "  File \"d:\\project\\python\\zi2zi-pytorch\\train.py\", line 122, in main\n",
      "    # shutil.rmtree(sample_dir)\n",
      "        ^^^^^^^^^^^^^^^^^^^^^^^^\n",
      "  File \"d:\\project\\python\\zi2zi-pytorch\\model\\model.py\", line 264, in sample\n",
      "    # vutils.save_image(tensor_to_plot, basename + \"_construct.png\")\n",
      "^^^^^^^^^^^^^^^^^^^\n",
      "  File \"d:\\project\\python\\zi2zi-pytorch\\model\\model.py\", line 289, in chk_mkdir\n",
      "FileNotFoundError: [WinError 3] 系统找不到指定的路径。: 'experiment\\\\sample\\\\3510'\n"
     ]
    },
    {
     "name": "stdout",
     "output_type": "stream",
     "text": [
      "initialize network with normal\n",
      "initialize network with normal\n",
      "---------- Networks initialized -------------\n",
      "UNetGenerator(\n",
      "  (model): UnetSkipConnectionBlock(\n",
      "    (submodule): UnetSkipConnectionBlock(\n",
      "      (submodule): UnetSkipConnectionBlock(\n",
      "        (submodule): UnetSkipConnectionBlock(\n",
      "          (submodule): UnetSkipConnectionBlock(\n",
      "            (submodule): UnetSkipConnectionBlock(\n",
      "              (submodule): UnetSkipConnectionBlock(\n",
      "                (submodule): UnetSkipConnectionBlock(\n",
      "                  (down): Sequential(\n",
      "                    (0): LeakyReLU(negative_slope=0.2, inplace=True)\n",
      "                    (1): Conv2d(512, 512, kernel_size=(4, 4), stride=(2, 2), padding=(1, 1), bias=False)\n",
      "                  )\n",
      "                  (up): Sequential(\n",
      "                    (0): ReLU(inplace=True)\n",
      "                    (1): ConvTranspose2d(640, 512, kernel_size=(4, 4), stride=(2, 2), padding=(1, 1), bias=False)\n",
      "                    (2): BatchNorm2d(512, eps=1e-05, momentum=0.1, affine=True, track_running_stats=True)\n",
      "                  )\n",
      "                )\n",
      "                (down): Sequential(\n",
      "                  (0): LeakyReLU(negative_slope=0.2, inplace=True)\n",
      "                  (1): Conv2d(512, 512, kernel_size=(4, 4), stride=(2, 2), padding=(1, 1), bias=False)\n",
      "                  (2): BatchNorm2d(512, eps=1e-05, momentum=0.1, affine=True, track_running_stats=True)\n",
      "                )\n",
      "                (up): Sequential(\n",
      "                  (0): ReLU(inplace=True)\n",
      "                  (1): ConvTranspose2d(1024, 512, kernel_size=(4, 4), stride=(2, 2), padding=(1, 1), bias=False)\n",
      "                  (2): BatchNorm2d(512, eps=1e-05, momentum=0.1, affine=True, track_running_stats=True)\n",
      "                  (3): Dropout(p=0.5, inplace=False)\n",
      "                )\n",
      "              )\n",
      "              (down): Sequential(\n",
      "                (0): LeakyReLU(negative_slope=0.2, inplace=True)\n",
      "                (1): Conv2d(512, 512, kernel_size=(4, 4), stride=(2, 2), padding=(1, 1), bias=False)\n",
      "                (2): BatchNorm2d(512, eps=1e-05, momentum=0.1, affine=True, track_running_stats=True)\n",
      "              )\n",
      "              (up): Sequential(\n",
      "                (0): ReLU(inplace=True)\n",
      "                (1): ConvTranspose2d(1024, 512, kernel_size=(4, 4), stride=(2, 2), padding=(1, 1), bias=False)\n",
      "                (2): BatchNorm2d(512, eps=1e-05, momentum=0.1, affine=True, track_running_stats=True)\n",
      "                (3): Dropout(p=0.5, inplace=False)\n",
      "              )\n",
      "            )\n",
      "            (down): Sequential(\n",
      "              (0): LeakyReLU(negative_slope=0.2, inplace=True)\n",
      "              (1): Conv2d(512, 512, kernel_size=(4, 4), stride=(2, 2), padding=(1, 1), bias=False)\n",
      "              (2): BatchNorm2d(512, eps=1e-05, momentum=0.1, affine=True, track_running_stats=True)\n",
      "            )\n",
      "            (up): Sequential(\n",
      "              (0): ReLU(inplace=True)\n",
      "              (1): ConvTranspose2d(1024, 512, kernel_size=(4, 4), stride=(2, 2), padding=(1, 1), bias=False)\n",
      "              (2): BatchNorm2d(512, eps=1e-05, momentum=0.1, affine=True, track_running_stats=True)\n",
      "              (3): Dropout(p=0.5, inplace=False)\n",
      "            )\n",
      "          )\n",
      "          (down): Sequential(\n",
      "            (0): LeakyReLU(negative_slope=0.2, inplace=True)\n",
      "            (1): Conv2d(256, 512, kernel_size=(4, 4), stride=(2, 2), padding=(1, 1), bias=False)\n",
      "            (2): BatchNorm2d(512, eps=1e-05, momentum=0.1, affine=True, track_running_stats=True)\n",
      "          )\n",
      "          (up): Sequential(\n",
      "            (0): ReLU(inplace=True)\n",
      "            (1): ConvTranspose2d(1024, 256, kernel_size=(4, 4), stride=(2, 2), padding=(1, 1), bias=False)\n",
      "            (2): BatchNorm2d(256, eps=1e-05, momentum=0.1, affine=True, track_running_stats=True)\n",
      "          )\n",
      "        )\n",
      "        (down): Sequential(\n",
      "          (0): LeakyReLU(negative_slope=0.2, inplace=True)\n",
      "          (1): Conv2d(128, 256, kernel_size=(4, 4), stride=(2, 2), padding=(1, 1), bias=False)\n",
      "          (2): BatchNorm2d(256, eps=1e-05, momentum=0.1, affine=True, track_running_stats=True)\n",
      "        )\n",
      "        (up): Sequential(\n",
      "          (0): ReLU(inplace=True)\n",
      "          (1): ConvTranspose2d(512, 128, kernel_size=(4, 4), stride=(2, 2), padding=(1, 1), bias=False)\n",
      "          (2): BatchNorm2d(128, eps=1e-05, momentum=0.1, affine=True, track_running_stats=True)\n",
      "        )\n",
      "      )\n",
      "      (down): Sequential(\n",
      "        (0): LeakyReLU(negative_slope=0.2, inplace=True)\n",
      "        (1): Conv2d(64, 128, kernel_size=(4, 4), stride=(2, 2), padding=(1, 1), bias=False)\n",
      "        (2): BatchNorm2d(128, eps=1e-05, momentum=0.1, affine=True, track_running_stats=True)\n",
      "      )\n",
      "      (up): Sequential(\n",
      "        (0): ReLU(inplace=True)\n",
      "        (1): ConvTranspose2d(256, 64, kernel_size=(4, 4), stride=(2, 2), padding=(1, 1), bias=False)\n",
      "        (2): BatchNorm2d(64, eps=1e-05, momentum=0.1, affine=True, track_running_stats=True)\n",
      "      )\n",
      "    )\n",
      "    (down): Sequential(\n",
      "      (0): Conv2d(1, 64, kernel_size=(4, 4), stride=(2, 2), padding=(1, 1), bias=False)\n",
      "    )\n",
      "    (up): Sequential(\n",
      "      (0): ReLU(inplace=True)\n",
      "      (1): ConvTranspose2d(128, 1, kernel_size=(4, 4), stride=(2, 2), padding=(1, 1))\n",
      "      (2): Tanh()\n",
      "    )\n",
      "  )\n",
      "  (embedder): Embedding(40, 128)\n",
      ")\n",
      "[Network G] Total number of parameters : 55.462 M\n",
      "Discriminator(\n",
      "  (model): Sequential(\n",
      "    (0): Conv2d(2, 64, kernel_size=(5, 5), stride=(2, 2), padding=(2, 2))\n",
      "    (1): LeakyReLU(negative_slope=0.2, inplace=True)\n",
      "    (2): Conv2d(64, 128, kernel_size=(5, 5), stride=(2, 2), padding=(2, 2), bias=False)\n",
      "    (3): BatchNorm2d(128, eps=1e-05, momentum=0.1, affine=True, track_running_stats=True)\n",
      "    (4): LeakyReLU(negative_slope=0.2, inplace=True)\n",
      "    (5): Conv2d(128, 256, kernel_size=(5, 5), stride=(2, 2), padding=(2, 2), bias=False)\n",
      "    (6): BatchNorm2d(256, eps=1e-05, momentum=0.1, affine=True, track_running_stats=True)\n",
      "    (7): LeakyReLU(negative_slope=0.2, inplace=True)\n",
      "    (8): Conv2d(256, 512, kernel_size=(5, 5), stride=(1, 1), padding=(2, 2), bias=False)\n",
      "    (9): BatchNorm2d(512, eps=1e-05, momentum=0.1, affine=True, track_running_stats=True)\n",
      "    (10): LeakyReLU(negative_slope=0.2, inplace=True)\n",
      "    (11): Conv2d(512, 1, kernel_size=(5, 5), stride=(1, 1), padding=(2, 2))\n",
      "  )\n",
      "  (binary): Linear(in_features=1024, out_features=1, bias=True)\n",
      "  (catagory): Linear(in_features=1024, out_features=40, bias=True)\n",
      ")\n",
      "[Network D] Total number of parameters : 4.361 M\n",
      "-----------------------------------------------\n",
      "继续上次训练, checkpoint: 3500\n",
      "load model 3500\n",
      "unpickled total 196 examples\n",
      "unpickled total 762 examples\n",
      "Epoch: [3501], [   0/  24] time: 14.63, d_loss: 1.40143, g_loss: 15.77890, category_loss: 0.00005, cheat_loss: 0.00104, const_loss: 0.11031, l1_loss: 15.66753\n",
      "Checkpoint: save checkpoint step 3510\n"
     ]
    }
   ],
   "source": [
    "! python train.py --experiment_dir=experiment --gpu_ids=cuda:0 --batch_size=32 --epoch=10000 --sample_steps=10 --checkpoint_steps=10 --input_nc 1 --resume 3500"
   ]
  }
 ],
 "metadata": {
  "kernelspec": {
   "display_name": "Python 3",
   "language": "python",
   "name": "python3"
  },
  "language_info": {
   "codemirror_mode": {
    "name": "ipython",
    "version": 3
   },
   "file_extension": ".py",
   "mimetype": "text/x-python",
   "name": "python",
   "nbconvert_exporter": "python",
   "pygments_lexer": "ipython3",
   "version": "3.11.5"
  }
 },
 "nbformat": 4,
 "nbformat_minor": 2
}
